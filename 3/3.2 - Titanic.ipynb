{
 "cells": [
  {
   "cell_type": "code",
   "execution_count": 1,
   "metadata": {},
   "outputs": [
    {
     "name": "stdout",
     "output_type": "stream",
     "text": [
      "Процент потерянных данных: 79.46%\n"
     ]
    }
   ],
   "source": [
    "import pandas as pd\n",
    "import numpy as np\n",
    "\n",
    "data = pd.read_csv(\"Titanic.csv\")\n",
    "\n",
    "data_cleaned = data.dropna()\n",
    "\n",
    "non_numeric_cols = data_cleaned.select_dtypes(include=['object']).columns\n",
    "non_numeric_cols_to_drop = [col for col in non_numeric_cols if col not in ['Sex', 'Embarked']]\n",
    "data_cleaned = data_cleaned.drop(columns=non_numeric_cols_to_drop)\n",
    "\n",
    "data_cleaned['Sex'] = data_cleaned['Sex'].map({'male': 0, 'female': 1})\n",
    "embarked_mapping = {'C': 1, 'Q': 2, 'S': 3}\n",
    "data_cleaned['Embarked'] = data_cleaned['Embarked'].map(embarked_mapping)\n",
    "\n",
    "if 'PassengerId' in data_cleaned.columns:\n",
    "    data_cleaned = data_cleaned.drop(columns=['PassengerId'])\n",
    "\n",
    "original_len = len(data)\n",
    "cleaned_len = len(data_cleaned)\n",
    "percent_lost = (original_len - cleaned_len) / original_len * 100\n",
    "\n",
    "print(f\"Процент потерянных данных: {percent_lost:.2f}%\")"
   ]
  },
  {
   "cell_type": "code",
   "execution_count": 2,
   "metadata": {},
   "outputs": [
    {
     "name": "stdout",
     "output_type": "stream",
     "text": [
      "Точность модели: 0.8649\n"
     ]
    }
   ],
   "source": [
    "from sklearn.model_selection import train_test_split\n",
    "from sklearn.linear_model import LogisticRegression\n",
    "from sklearn.metrics import accuracy_score\n",
    "\n",
    "X = data_cleaned.drop(columns=['Survived'])\n",
    "y = data_cleaned['Survived']\n",
    "X_train, X_test, y_train, y_test = train_test_split(X, y, test_size=0.2, random_state=0)\n",
    "\n",
    "model = LogisticRegression(max_iter=1000)\n",
    "model.fit(X_train, y_train)\n",
    "\n",
    "y_pred = model.predict(X_test)\n",
    "accuracy = accuracy_score(y_test, y_pred)\n",
    "print(f\"Точность модели: {accuracy:.4f}\")"
   ]
  },
  {
   "cell_type": "code",
   "execution_count": 3,
   "metadata": {},
   "outputs": [
    {
     "name": "stdout",
     "output_type": "stream",
     "text": [
      "Точность без Embarked: 0.8649\n",
      "Разница в точности: 0.0000\n"
     ]
    }
   ],
   "source": [
    "# Удалим Embarked и обучим модель заново\n",
    "X_no_embarked = X.drop(columns=['Embarked'])\n",
    "X_train_ne, X_test_ne, y_train_ne, y_test_ne = train_test_split(X_no_embarked, y, test_size=0.2, random_state=0)\n",
    "\n",
    "model_no_embarked = LogisticRegression(max_iter=1000)\n",
    "model_no_embarked.fit(X_train_ne, y_train_ne)\n",
    "y_pred_ne = model_no_embarked.predict(X_test_ne)\n",
    "\n",
    "accuracy_ne = accuracy_score(y_test_ne, y_pred_ne)\n",
    "print(f\"Точность без Embarked: {accuracy_ne:.4f}\")\n",
    "print(f\"Разница в точности: {accuracy - accuracy_ne:.4f}\")"
   ]
  }
 ],
 "metadata": {
  "kernelspec": {
   "display_name": "Python 3",
   "language": "python",
   "name": "python3"
  },
  "language_info": {
   "codemirror_mode": {
    "name": "ipython",
    "version": 3
   },
   "file_extension": ".py",
   "mimetype": "text/x-python",
   "name": "python",
   "nbconvert_exporter": "python",
   "pygments_lexer": "ipython3",
   "version": "3.10.6"
  },
  "orig_nbformat": 4
 },
 "nbformat": 4,
 "nbformat_minor": 2
}
